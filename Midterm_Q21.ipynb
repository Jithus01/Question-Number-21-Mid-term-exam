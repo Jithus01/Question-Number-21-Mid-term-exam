{
 "cells": [
  {
   "cell_type": "markdown",
   "id": "a95eaefe",
   "metadata": {},
   "source": [
    "### Question 21"
   ]
  },
  {
   "cell_type": "code",
   "execution_count": 2,
   "id": "18d89c7c",
   "metadata": {},
   "outputs": [
    {
     "name": "stdout",
     "output_type": "stream",
     "text": [
      "Length of the segment: 5.0\n",
      "Slope of the segment: 0.75\n"
     ]
    }
   ],
   "source": [
    "\n",
    "class Point:\n",
    "    def __init__(self, x=0, y=0):\n",
    "        self.x = x\n",
    "        self.y = y\n",
    "\n",
    "class Segment:\n",
    "    def __init__(self, p1, p2):\n",
    "        self.p1 = p1\n",
    "        self.p2 = p2\n",
    "    \n",
    "    def length(self):\n",
    "        return ((self.p2.x - self.p1.x)**2 + (self.p2.y - self.p1.y)**2)**0.5\n",
    "    \n",
    "    def slope(self):\n",
    "        try:\n",
    "            return (self.p2.x - self.p1.x) / (self.p2.y - self.p1.y)\n",
    "        except ZeroDivisionError:\n",
    "            return None\n",
    "n\n",
    "p1 = Point(3, 4)\n",
    "p2 = Point()\n",
    "\n",
    "s = Segment(p1, p2)\n",
    "\n",
    "print(f\"Length of the segment: {s.length()}\") \n",
    "print(f\"Slope of the segment: {s.slope()}\")    \n"
   ]
  },
  {
   "cell_type": "code",
   "execution_count": null,
   "id": "c6787d46",
   "metadata": {},
   "outputs": [],
   "source": []
  }
 ],
 "metadata": {
  "kernelspec": {
   "display_name": "Python 3 (ipykernel)",
   "language": "python",
   "name": "python3"
  },
  "language_info": {
   "codemirror_mode": {
    "name": "ipython",
    "version": 3
   },
   "file_extension": ".py",
   "mimetype": "text/x-python",
   "name": "python",
   "nbconvert_exporter": "python",
   "pygments_lexer": "ipython3",
   "version": "3.10.9"
  }
 },
 "nbformat": 4,
 "nbformat_minor": 5
}
